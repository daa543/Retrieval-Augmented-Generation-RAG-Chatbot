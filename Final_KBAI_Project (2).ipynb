{
  "cells": [
    {
      "cell_type": "markdown",
      "metadata": {
        "id": "JaFxzN-25eVI"
      },
      "source": [
        "####  Aya AbdElmoniem Mohamed\n",
        "####  Doaa Samir El-Sayed\n",
        "####  Ahmed Mostafa AbdEl-Rahman\n",
        "####  Mazen Gaber Mahmoud"
      ]
    },
    {
      "cell_type": "markdown",
      "metadata": {},
      "source": [
        "# <center> Final KBAI Project </center>"
      ]
    },
    {
      "cell_type": "markdown",
      "metadata": {
        "id": "m3wsImGI13w-"
      },
      "source": [
        "# Table of Contents\n",
        "\n",
        "- [Domain: Python Programming Education for Children](#domain-python-programming-education-for-children)\n",
        "- [Installing Required Packages](#installing-required-packages)\n",
        "- [Importing Required Modules](#importing-required-modules)\n",
        "- [Phase 2: Collect Data with Web Scraping](#phase-2-collect-data-with-web-scraping)\n",
        "- [Phase 3: Preprocess and Chunk the Text](#phase-3-preprocess-and-chunk-the-text)\n",
        "- [Phase 4: Embed the Chunks](#phase-4-embed-the-chunks)\n",
        "- [Phase 5: Create a Vector Store (ChromaDB)](#phase-5-create-a-vector-store-chromadb)\n",
        "- [Phase 6: RAG System - Retrieval and Generation](#phase-6-rag-system---retrieval-and-generation)\n",
        "- [Generating the Answers](#generating-the-answers)\n",
        "- [Final Test: Sample Questions and Answers](#final-test-sample-questions-and-answers)\n"
      ]
    },
    {
      "cell_type": "markdown",
      "metadata": {
        "id": "dYjXLTq9XxVN"
      },
      "source": [
        "# Domain : Python Programming Education for Children\n",
        "# Use Case :\n",
        "This project creates a child-friendly Python programming assistant that explains coding concepts in simple, accessible ways for young learners aged 8-12. Programming education for children is increasingly important as digital literacy becomes essential, yet many resources use technical jargon that overwhelms young learners.\n",
        "\n",
        "Our chatbot transforms complex programming concepts into age-appropriate explanations with relatable examples and encouraging language. It helps children understand fundamentals like variables, loops, and functions through analogies to everyday experiences. By making learning enjoyable and building confidence, this tool supports early coding education and helps develop computational thinking skills critical for future academic and career success.\n"
      ]
    },
    {
      "cell_type": "markdown",
      "metadata": {
        "id": "Nc5CA6yqvgPc"
      },
      "source": [
        "## Installing Required Packages"
      ]
    },
    {
      "cell_type": "code",
      "execution_count": null,
      "metadata": {
        "id": "UOeAubBxnW83"
      },
      "outputs": [],
      "source": [
        "# 1. Install required packages if not already installed\n",
        "!!pip install PyPDF2\n",
        "!!pip install datasets\n",
        "!pip install -q mistralai\n",
        "!pip install -q chromadb sentence-transformers\n"
      ]
    },
    {
      "cell_type": "markdown",
      "metadata": {
        "id": "C4DY7HMJwVGP"
      },
      "source": [
        "## Importing Required Modules"
      ]
    },
    {
      "cell_type": "code",
      "execution_count": null,
      "metadata": {
        "id": "W4uqlP2E-bNn"
      },
      "outputs": [],
      "source": [
        "import os\n",
        "import pickle\n",
        "import numpy as np\n",
        "import requests\n",
        "import json\n",
        "import time\n",
        "from sentence_transformers import SentenceTransformer\n",
        "import chromadb\n",
        "from chromadb.utils import embedding_functions\n",
        "import pandas as pd\n",
        "import random\n",
        "import csv\n",
        "import re\n",
        "from bs4 import BeautifulSoup\n",
        "from urllib.parse import urlparse, urljoin\n",
        "from tqdm import tqdm\n",
        "import PyPDF2\n",
        "import io\n"
      ]
    },
    {
      "cell_type": "markdown",
      "metadata": {
        "id": "RBthC50RVLD1"
      },
      "source": [
        "## Phase 2: Collect Data with Web Scraping"
      ]
    },
    {
      "cell_type": "code",
      "execution_count": null,
      "metadata": {
        "colab": {
          "base_uri": "https://localhost:8080/"
        },
        "id": "7LalhX3A_Pyi",
        "outputId": "d24913e1-c8ac-4cec-f64c-03d2628a87a1"
      },
      "outputs": [
        {
          "name": "stderr",
          "output_type": "stream",
          "text": [
            "\rScraping URLs:   0%|          | 0/5 [00:00<?, ?it/s]"
          ]
        },
        {
          "name": "stdout",
          "output_type": "stream",
          "text": [
            "Scraping: https://www.programiz.com/python-programming/variables-constants-literals\n"
          ]
        },
        {
          "name": "stderr",
          "output_type": "stream",
          "text": [
            "\rScraping URLs:  20%|██        | 1/5 [00:02<00:08,  2.09s/it]"
          ]
        },
        {
          "name": "stdout",
          "output_type": "stream",
          "text": [
            "Scraping: https://www.programiz.com/python-programming/numbers\n"
          ]
        },
        {
          "name": "stderr",
          "output_type": "stream",
          "text": [
            "\rScraping URLs:  40%|████      | 2/5 [00:03<00:05,  1.98s/it]"
          ]
        },
        {
          "name": "stdout",
          "output_type": "stream",
          "text": [
            "Scraping: https://www.programiz.com/python-programming/if-elif-else\n"
          ]
        },
        {
          "name": "stderr",
          "output_type": "stream",
          "text": [
            "\rScraping URLs:  60%|██████    | 3/5 [00:06<00:04,  2.15s/it]"
          ]
        },
        {
          "name": "stdout",
          "output_type": "stream",
          "text": [
            "Scraping: https://www.programiz.com/python-programming/for-loop\n"
          ]
        },
        {
          "name": "stderr",
          "output_type": "stream",
          "text": [
            "\rScraping URLs:  80%|████████  | 4/5 [00:08<00:02,  2.14s/it]"
          ]
        },
        {
          "name": "stdout",
          "output_type": "stream",
          "text": [
            "Scraping: https://bugs.python.org/file47781/Tutorial_EDIT.pdf\n",
            "Processing PDF: https://bugs.python.org/file47781/Tutorial_EDIT.pdf\n"
          ]
        },
        {
          "name": "stderr",
          "output_type": "stream",
          "text": [
            "Scraping URLs: 100%|██████████| 5/5 [00:14<00:00,  2.83s/it]"
          ]
        },
        {
          "name": "stdout",
          "output_type": "stream",
          "text": [
            "\n",
            "Web Scraping Statistics:\n",
            "Total URLs scraped: 5\n",
            "Successful scrapes: 5\n",
            "Failed scrapes: 0\n",
            "HTML pages: 4\n",
            "PDF documents: 1\n",
            "Total words scraped: 50726\n"
          ]
        },
        {
          "name": "stderr",
          "output_type": "stream",
          "text": [
            "\n"
          ]
        }
      ],
      "source": [
        "# Create directory\n",
        "os.makedirs(\"web_scraped_data__\", exist_ok=True)\n",
        "\n",
        "def clean_text(text):\n",
        "    text = ' '.join(text.split())\n",
        "    text = re.sub(r'\\s+', ' ', text)\n",
        "    return text\n",
        "\n",
        "def extract_pdf_text(pdf_content):\n",
        "    try:\n",
        "        pdf_file = io.BytesIO(pdf_content)\n",
        "        pdf_reader = PyPDF2.PdfReader(pdf_file)\n",
        "        text = \"\"\n",
        "        for page in pdf_reader.pages:\n",
        "            page_text = page.extract_text() or \"\"\n",
        "            text += page_text + \"\\n\\n\"\n",
        "        return clean_text(text)\n",
        "    except Exception as e:\n",
        "        print(f\"Error extracting PDF text: {str(e)}\")\n",
        "        return \"\"\n",
        "\n",
        "def is_pdf_url(url):\n",
        "    return url.lower().endswith('.pdf') or '/pdf/' in url.lower()\n",
        "\n",
        "def scrape_url(url, min_paragraph_length=50):\n",
        "    try:\n",
        "        time.sleep(random.uniform(1, 3))\n",
        "        headers = {\n",
        "            'User-Agent': 'Mozilla/5.0 (Windows NT 10.0; Win64; x64)',\n",
        "            'Accept': '*/*'\n",
        "        }\n",
        "        print(f\"Scraping: {url}\")\n",
        "        response = requests.get(url, headers=headers, timeout=15)\n",
        "        response.raise_for_status()\n",
        "\n",
        "        if is_pdf_url(url) or 'application/pdf' in response.headers.get('Content-Type', ''):\n",
        "            print(f\"Processing PDF: {url}\")\n",
        "            content = extract_pdf_text(response.content)\n",
        "            title = os.path.basename(url) or \"PDF Document\"\n",
        "            word_count = len(content.split())\n",
        "            return {'url': url, 'title': title, 'content': content, 'word_count': word_count, 'status': 'success', 'type': 'pdf'}\n",
        "\n",
        "        soup = BeautifulSoup(response.content, 'html.parser')\n",
        "        title = soup.title.string if soup.title else \"No Title\"\n",
        "        paragraphs = []\n",
        "        for p in soup.find_all(['p', 'article', 'section', 'div.content', 'div.main']):\n",
        "            text = p.get_text().strip()\n",
        "            if len(text) >= min_paragraph_length:\n",
        "                paragraphs.append(clean_text(text))\n",
        "        content = '\\n\\n'.join(paragraphs)\n",
        "        word_count = len(content.split())\n",
        "        return {'url': url, 'title': title, 'content': content, 'word_count': word_count, 'status': 'success', 'type': 'html'}\n",
        "\n",
        "    except Exception as e:\n",
        "        print(f\"Error scraping {url}: {str(e)}\")\n",
        "        return {'url': url, 'title': '', 'content': '', 'word_count': 0, 'status': f'error: {str(e)}', 'type': 'unknown'}\n",
        "\n",
        "def find_pdf_links(url, html_content):\n",
        "    pdf_links = []\n",
        "    try:\n",
        "        soup = BeautifulSoup(html_content, 'html.parser')\n",
        "        for a_tag in soup.find_all('a', href=True):\n",
        "            href = a_tag['href']\n",
        "            if href.lower().endswith('.pdf'):\n",
        "                if not href.startswith(('http://', 'https://')):\n",
        "                    base_url = url.rstrip('/')\n",
        "                    if href.startswith('/'):\n",
        "                        href = f\"{'/'.join(base_url.split('/')[:3])}{href}\"\n",
        "                    else:\n",
        "                        href = f\"{base_url}/{href}\"\n",
        "                pdf_links.append(href)\n",
        "    except Exception as e:\n",
        "        print(f\"Error finding PDF links: {str(e)}\")\n",
        "    return pdf_links\n",
        "\n",
        "# Seed URLs\n",
        "seed_urls = [\n",
        "    \"https://www.programiz.com/python-programming/variables-constants-literals\",\n",
        "    \"https://www.programiz.com/python-programming/numbers\",\n",
        "    \"https://www.programiz.com/python-programming/if-elif-else\",\n",
        "    \"https://www.programiz.com/python-programming/for-loop\"\n",
        "]\n",
        "\n",
        "pdf_seed_urls = [\n",
        "    \"https://bugs.python.org/file47781/Tutorial_EDIT.pdf\"\n",
        "]\n",
        "\n",
        "all_urls = seed_urls + pdf_seed_urls\n",
        "\n",
        "all_scraped_data = []\n",
        "total_word_count = 0\n",
        "pdf_count = 0\n",
        "\n",
        "for url in tqdm(all_urls, desc=\"Scraping URLs\"):\n",
        "    result = scrape_url(url)\n",
        "    all_scraped_data.append(result)\n",
        "\n",
        "    # Count PDF if successful\n",
        "    if result['status'] == 'success' and result['type'] == 'pdf':\n",
        "        pdf_count += 1\n",
        "\n",
        "    if result['status'] == 'success' and result['type'] == 'html':\n",
        "        try:\n",
        "            headers = {'User-Agent': 'Mozilla/5.0'}\n",
        "            response = requests.get(url, headers=headers, timeout=10)\n",
        "            pdf_links = find_pdf_links(url, response.content)\n",
        "            for pdf_url in pdf_links:\n",
        "                print(f\"Found PDF link: {pdf_url}\")\n",
        "                pdf_result = scrape_url(pdf_url)\n",
        "                all_scraped_data.append(pdf_result)\n",
        "                if pdf_result['status'] == 'success' and pdf_result['type'] == 'pdf':\n",
        "                    pdf_count += 1\n",
        "        except Exception as e:\n",
        "            print(f\"Error processing PDF links from {url}: {str(e)}\")\n",
        "\n",
        "    if result['status'] == 'success':\n",
        "        total_word_count += result['word_count']\n",
        "        domain = urlparse(result['url']).netloc\n",
        "        file_type = \"pdf\" if result['type'] == 'pdf' else \"html\"\n",
        "        filename = f\"{domain.replace('.', '_')}_{hash(result['url']) % 10000}.{file_type}.txt\"\n",
        "        filepath = os.path.join(\"web_scraped_data__\", filename)\n",
        "\n",
        "        with open(filepath, 'w', encoding='utf-8') as f:\n",
        "            f.write(f\"URL: {result['url']}\\n\")\n",
        "            f.write(f\"Title: {result['title']}\\n\")\n",
        "            f.write(f\"Type: {result['type']}\\n\")\n",
        "            f.write(f\"Word Count: {result['word_count']}\\n\\n\")\n",
        "            f.write(result['content'])\n",
        "\n",
        "csv_file = \"web_scraped_data__/all_scraped_content.csv\"\n",
        "with open(csv_file, 'w', encoding='utf-8', newline='') as f:\n",
        "    writer = csv.writer(f)\n",
        "    writer.writerow(['url', 'title', 'content', 'word_count', 'status', 'type'])\n",
        "    for item in all_scraped_data:\n",
        "        truncated = item['content'][:1000] + '...' if len(item['content']) > 1000 else item['content']\n",
        "        writer.writerow([item['url'], item['title'], truncated, item['word_count'], item['status'], item.get('type', 'unknown')])\n",
        "\n",
        "with open(\"web_scraped_data__/all_content.txt\", 'w', encoding='utf-8') as f:\n",
        "    for item in all_scraped_data:\n",
        "        if item['status'] == 'success':\n",
        "            f.write(f\"--- {item['title']} ({item.get('type', 'unknown')}) ---\\n\\n\")\n",
        "            f.write(item['content'])\n",
        "            f.write(\"\\n\\n\" + \"=\"*80 + \"\\n\\n\")\n",
        "\n",
        "successful_scrapes = sum(1 for item in all_scraped_data if item['status'] == 'success')\n",
        "failed_scrapes = sum(1 for item in all_scraped_data if item['status'] != 'success')\n",
        "html_count = sum(1 for item in all_scraped_data if item.get('type') == 'html' and item['status'] == 'success')\n",
        "\n",
        "print(f\"\\nWeb Scraping Statistics:\")\n",
        "print(f\"Total URLs scraped: {len(all_scraped_data)}\")\n",
        "print(f\"Successful scrapes: {successful_scrapes}\")\n",
        "print(f\"Failed scrapes: {failed_scrapes}\")\n",
        "print(f\"HTML pages: {html_count}\")\n",
        "print(f\"PDF documents: {pdf_count}\")\n",
        "print(f\"Total words scraped: {total_word_count}\")\n"
      ]
    },
    {
      "cell_type": "markdown",
      "metadata": {
        "id": "T4zeBjMOdOtn"
      },
      "source": [
        "## Phase 3: Preprocess and Chunk the Text\n",
        "\n",
        "After collecting and cleaning data, we split it into smaller, manageable chunks. These chunks, typically 200–500 words, make it easier for embedding models to process text efficiently. This also improves the relevance and granularity of search results in later phases.\n"
      ]
    },
    {
      "cell_type": "code",
      "execution_count": null,
      "metadata": {
        "id": "LSJR0bKfvpX6"
      },
      "outputs": [],
      "source": [
        "def recursive_text_splitter(text, chunk_size=500, chunk_overlap=100):\n",
        "    separators = [\"\\n\\n\", \"\\n\", \". \", \", \", \" \", \"\"]\n",
        "\n",
        "    def _split(text, sep):\n",
        "        if sep == \"\":\n",
        "            return [text[i:i+chunk_size] for i in range(0, len(text), chunk_size - chunk_overlap)]\n",
        "\n",
        "        chunks, cur_chunk, cur_len = [], [], 0\n",
        "        for part in text.split(sep):\n",
        "            part = (sep + part) if cur_chunk else part\n",
        "            if cur_len + len(part) > chunk_size and cur_chunk:\n",
        "                joined = \"\".join(cur_chunk)\n",
        "                chunks.append(joined)\n",
        "                overlap = joined[-chunk_overlap:] if chunk_overlap < len(joined) else joined\n",
        "                cur_chunk = [overlap, part]\n",
        "                cur_len = len(overlap) + len(part)\n",
        "            else:\n",
        "                cur_chunk.append(part)\n",
        "                cur_len += len(part)\n",
        "        if cur_chunk:\n",
        "            chunks.append(\"\".join(cur_chunk))\n",
        "        return chunks\n",
        "\n",
        "    def _recursive(text, idx=0):\n",
        "        if len(text) <= chunk_size or idx >= len(separators):\n",
        "            return [text]\n",
        "        split_chunks = _split(text, separators[idx])\n",
        "        result = []\n",
        "        for chunk in split_chunks:\n",
        "            result.extend(_recursive(chunk, idx + 1) if len(chunk) > chunk_size else [chunk])\n",
        "        return result\n",
        "\n",
        "    return _recursive(text)\n",
        "\n",
        "def split_documents(docs, chunk_size=500, chunk_overlap=100):\n",
        "    return [\n",
        "        {**doc, 'content': chunk, 'chunk_id': i}\n",
        "        for doc in docs if doc.get('status') == 'success' and doc.get('content')\n",
        "        for i, chunk in enumerate(recursive_text_splitter(doc['content'], chunk_size, chunk_overlap))\n",
        "    ]\n"
      ]
    },
    {
      "cell_type": "markdown",
      "metadata": {
        "id": "NOMMmUqYxawO"
      },
      "source": [
        "This function recursively splits a large block of text into smaller overlapping chunks, using progressively smaller separators (paragraphs, sentences, words, etc.). This ensures that each chunk stays within a desired length while maintaining natural language coherence.\n"
      ]
    },
    {
      "cell_type": "code",
      "execution_count": null,
      "metadata": {
        "colab": {
          "base_uri": "https://localhost:8080/"
        },
        "id": "z8T5FSZowTDN",
        "outputId": "dd487068-b1be-4da5-a711-52c2477e7b7b"
      },
      "outputs": [
        {
          "name": "stdout",
          "output_type": "stream",
          "text": [
            "Original documents: 5\n",
            "After chunking: 1064 chunks\n"
          ]
        }
      ],
      "source": [
        "# After you've collected your web-scraped data\n",
        "chunked_data = split_documents(all_scraped_data, chunk_size=500, chunk_overlap=100)\n",
        "\n",
        "print(f\"Original documents: {len(all_scraped_data)}\")\n",
        "print(f\"After chunking: {len(chunked_data)} chunks\")"
      ]
    },
    {
      "cell_type": "markdown",
      "metadata": {
        "id": "ylpMHABFea7k"
      },
      "source": [
        "## Phase 4: Embed the Chunks\n",
        "\n",
        "We use sentence embeddings to represent each chunk of text as a numerical vector. This enables us to measure semantic similarity between a question and text chunks.\n"
      ]
    },
    {
      "cell_type": "code",
      "execution_count": null,
      "metadata": {
        "colab": {
          "base_uri": "https://localhost:8080/",
          "height": 208,
          "referenced_widgets": [
            "3abd0cd55e3d43d5898cf1a1bd2f7771",
            "7efe3645cab844479366ad8ea156718b",
            "59aae5dafc1c415ca190f57509da2618",
            "f071b089903b4bd783925661e9a21ad0",
            "e81fde548cc64ee29ae9d6c5cf2794c4",
            "44a1572704924cd1a670247b75b0e1e0",
            "cffe06d6b1fd450db6b25645130f8e77",
            "8787225a30e242bfafa8d4c7914fb49d",
            "80f0178d7fcb4ff083eff86e43f528c2",
            "55a0436c3a1c473b908764f10b685f33",
            "fb21fa4a29924a12ba10c2ee6316ea32"
          ]
        },
        "id": "UjpzEzuF4ca9",
        "outputId": "253bc683-67bb-4765-8fc7-ba39dad14412"
      },
      "outputs": [
        {
          "name": "stdout",
          "output_type": "stream",
          "text": [
            "Computing embeddings for cleaned content...\n"
          ]
        },
        {
          "name": "stderr",
          "output_type": "stream",
          "text": [
            "/usr/local/lib/python3.11/dist-packages/huggingface_hub/utils/_auth.py:94: UserWarning: \n",
            "The secret `HF_TOKEN` does not exist in your Colab secrets.\n",
            "To authenticate with the Hugging Face Hub, create a token in your settings tab (https://huggingface.co/settings/tokens), set it as secret in your Google Colab and restart your session.\n",
            "You will be able to reuse this secret in all of your notebooks.\n",
            "Please note that authentication is recommended but still optional to access public models or datasets.\n",
            "  warnings.warn(\n"
          ]
        },
        {
          "data": {
            "application/vnd.jupyter.widget-view+json": {
              "model_id": "3abd0cd55e3d43d5898cf1a1bd2f7771",
              "version_major": 2,
              "version_minor": 0
            },
            "text/plain": [
              "Batches:   0%|          | 0/34 [00:00<?, ?it/s]"
            ]
          },
          "metadata": {},
          "output_type": "display_data"
        },
        {
          "name": "stdout",
          "output_type": "stream",
          "text": [
            "Computed 1064 embeddings\n"
          ]
        }
      ],
      "source": [
        "print(\"Computing embeddings for cleaned content...\")\n",
        "model = SentenceTransformer(\"all-MiniLM-L6-v2\")\n",
        "\n",
        "texts = [doc['content'] for doc in chunked_data]\n",
        "embeddings = model.encode(texts, show_progress_bar=True)\n",
        "\n",
        "print(f\"Computed {len(embeddings)} embeddings\")\n"
      ]
    },
    {
      "cell_type": "markdown",
      "metadata": {
        "id": "eytEXJAtyR4r"
      },
      "source": [
        "This step initializes the MiniLM sentence transformer and encodes all chunked documents into vector representations. These vectors will later be used to find relevant chunks for answering user questions."
      ]
    },
    {
      "cell_type": "markdown",
      "metadata": {
        "id": "4qqRVt9HefX2"
      },
      "source": [
        "## Phase 5: Create a Vector Store (ChromaDB)\n",
        "\n",
        "Chroma is a lightweight vector database used to store and retrieve text embeddings efficiently. This section builds a Chroma index using the previously computed embeddings and associated text chunks.\n"
      ]
    },
    {
      "cell_type": "code",
      "execution_count": null,
      "metadata": {
        "colab": {
          "base_uri": "https://localhost:8080/"
        },
        "id": "MmFRyBZE4t6_",
        "outputId": "ccc14015-3fd7-4a39-ad49-78e8edb3d86e"
      },
      "outputs": [
        {
          "name": "stdout",
          "output_type": "stream",
          "text": [
            "Created new collection: python_for_kids_1746132699\n"
          ]
        }
      ],
      "source": [
        "# ====== Step 4: Initialize Chroma Client and Create Collection ======\n",
        "client = chromadb.Client()\n",
        "\n",
        "\n",
        "collection_name = f\"python_for_kids_{int(time.time())}\"\n",
        "embedding_fn = embedding_functions.SentenceTransformerEmbeddingFunction(model_name=\"all-MiniLM-L6-v2\")\n",
        "\n",
        "collection = client.create_collection(\n",
        "    name=collection_name,\n",
        "    embedding_function=embedding_fn,\n",
        "    metadata={\"description\": \"Python programming content for children (in-memory)\"}\n",
        ")\n",
        "print(f\"Created new collection: {collection_name}\")\n"
      ]
    },
    {
      "cell_type": "code",
      "execution_count": null,
      "metadata": {
        "colab": {
          "base_uri": "https://localhost:8080/"
        },
        "id": "sdQxzC6o4wWt",
        "outputId": "4b649cc7-4b72-4562-9df8-efaf2d76ee1f"
      },
      "outputs": [
        {
          "name": "stdout",
          "output_type": "stream",
          "text": [
            "Adding documents to collection...\n",
            "Added 1064 documents to the collection.\n"
          ]
        }
      ],
      "source": [
        "print(\"Adding documents to collection...\")\n",
        "\n",
        "ids = [f\"chunk_{i}\" for i in range(len(chunked_data))]\n",
        "documents = texts\n",
        "metadatas = [{\n",
        "    'url': doc['url'],\n",
        "    'title': doc['title'],\n",
        "    'chunk_id': str(i),\n",
        "    'word_count': str(doc['word_count']),\n",
        "} for i, doc in enumerate(chunked_data)]\n",
        "\n",
        "collection.add(\n",
        "    ids=ids,\n",
        "    documents=documents,\n",
        "    metadatas=metadatas,\n",
        "    embeddings=embeddings.tolist()\n",
        ")\n",
        "print(f\"Added {len(documents)} documents to the collection.\")\n"
      ]
    },
    {
      "cell_type": "markdown",
      "metadata": {
        "id": "JiCBPwoIyxx8"
      },
      "source": [
        "- `chromadb.Client()` initializes the database.\n",
        "- A collection is created to group the chunks.\n",
        "- Each chunk is added with metadata and a unique ID.\n",
        "- The embedding function can be explicitly defined or computed externally."
      ]
    },
    {
      "cell_type": "code",
      "execution_count": null,
      "metadata": {
        "colab": {
          "base_uri": "https://localhost:8080/"
        },
        "id": "LB8UPbBU75oB",
        "outputId": "947c78c0-9b02-48dd-f03e-616725b8d4f2"
      },
      "outputs": [
        {
          "name": "stdout",
          "output_type": "stream",
          "text": [
            "\n",
            "Document 1: Learn Python practically and Get Certified.\n",
            "\n",
            "Created with over a decade of experience and thousands of feedback.\n",
            "\n",
            "Learn Python practically and Get Certified.\n",
            "\n",
            "In the previous tutorial you learned about Python comments. Now, let's learn about variables and literals in Python.\n",
            "\n",
            "In programming, a variable is a container (storage area) to hold data. For example,\n",
            "\n",
            "As we can see from the above example, we use the assignment operator = to assign a value to a variable....\n",
            "Metadata: {'chunk_id': '0', 'title': 'Python Variables and Literals (With Examples)', 'url': 'https://www.programiz.com/python-programming/variables-constants-literals', 'word_count': '604'}\n",
            "Embedding: [-0.00399923  0.00034872 -0.04260653  0.0943079  -0.08958005 -0.11675563\n",
            "  0.06101482  0.05899188 -0.07405229  0.02892023] ...\n",
            "\n",
            "Document 2: we can see from the above example, we use the assignment operator = to assign a value to a variable.\n",
            "\n",
            "In the above example, we assigned the value programiz.pro to the site_name variable. Then, we printed out the value assigned to site_name\n",
            "\n",
            "Note: Python is a type-inferred language, so you don't have to explicitly define the variable type. It automatically knows that programiz.pro is a string and declares the site_name variable as a string....\n",
            "Metadata: {'chunk_id': '1', 'title': 'Python Variables and Literals (With Examples)', 'url': 'https://www.programiz.com/python-programming/variables-constants-literals', 'word_count': '604'}\n",
            "Embedding: [ 0.01759644  0.03476208 -0.09283978  0.0163166  -0.03470265 -0.06685314\n",
            "  0.16675237  0.07654302 -0.08062049 -0.05706682] ...\n",
            "\n",
            "Document 3:  automatically knows that programiz.pro is a string and declares the site_name variable as a string.\n",
            "\n",
            "Here, the value of site_name is changed from 'programiz.pro' to 'apple.com'.\n",
            "\n",
            "If we want to assign the same value to multiple variables at once, we can do this as:\n",
            "\n",
            "Here, we have assigned the same string value 'programiz.com' to both the variables site1 and site2....\n",
            "Metadata: {'word_count': '604', 'title': 'Python Variables and Literals (With Examples)', 'url': 'https://www.programiz.com/python-programming/variables-constants-literals', 'chunk_id': '2'}\n",
            "Embedding: [ 0.03150679 -0.06240588 -0.05534407 -0.04479811 -0.04281825 -0.01665225\n",
            "  0.14901158  0.01564579 -0.02089932 -0.04751668] ...\n",
            "\n",
            "Document 4: \n",
            "Here, we have assigned the same string value 'programiz.com' to both the variables site1 and site2.\n",
            "\n",
            "1. Constant and variable names should have a combination of letters in lowercase (a to z) or uppercase (A to Z) or digits (0 to 9) or an underscore (_). For example:\n",
            "\n",
            "2. Create a name that makes sense. For example, vowel makes more sense than v.\n",
            "\n",
            "3. If you want to create a variable name having two words, use underscore to separate them. For example:...\n",
            "Metadata: {'title': 'Python Variables and Literals (With Examples)', 'word_count': '604', 'url': 'https://www.programiz.com/python-programming/variables-constants-literals', 'chunk_id': '3'}\n",
            "Embedding: [-1.42208729e-02 -6.43135756e-02 -6.38928786e-02  9.61746118e-05\n",
            " -8.55446383e-02 -5.61062060e-02  9.62974951e-02 -4.71306266e-03\n",
            " -1.19277343e-01 -5.38846776e-02] ...\n",
            "\n",
            "Document 5: f you want to create a variable name having two words, use underscore to separate them. For example:\n",
            "\n",
            "5. Python is case-sensitive. So num and Num are different variables. For example,\n",
            "\n",
            "6. Avoid using keywords like if, True, class, etc. as variable names.\n",
            "\n",
            "Literals are representations of fixed values in a program. They can be numbers, characters, or strings, etc. For example, 'Hello, World!', 12, 23.0, 'C', etc.\n",
            "\n",
            "Literals are often used to assign values to variables or constants. For example,...\n",
            "Metadata: {'title': 'Python Variables and Literals (With Examples)', 'url': 'https://www.programiz.com/python-programming/variables-constants-literals', 'word_count': '604', 'chunk_id': '4'}\n",
            "Embedding: [ 0.03695178 -0.01396097 -0.03576542  0.02087809 -0.06555481 -0.01443214\n",
            "  0.07925179  0.06085033 -0.06580351  0.04388379] ...\n",
            "\n",
            "Document 6: 2, 23.0, 'C', etc.\n",
            "\n",
            "Literals are often used to assign values to variables or constants. For example,\n",
            "\n",
            "In the above expression, site_name is a variable, and 'programiz.com' is a literal.\n",
            "\n",
            "There are different types of literals in Python. Let's discuss some of the commonly used types in detail.\n",
            "\n",
            "Numeric Literals are immutable (unchangeable). Numeric literals can belong to 3 different numerical types: Integer, Float, and Complex....\n",
            "Metadata: {'word_count': '604', 'title': 'Python Variables and Literals (With Examples)', 'chunk_id': '5', 'url': 'https://www.programiz.com/python-programming/variables-constants-literals'}\n",
            "Embedding: [ 0.01273172 -0.0505924   0.01036947  0.05578191 -0.06359062 -0.07108407\n",
            " -0.00620848  0.05173203 -0.01027056  0.00482084] ...\n",
            "\n",
            "Document 7: hangeable). Numeric literals can belong to 3 different numerical types: Integer, Float, and Complex.\n",
            "\n",
            "Integer literals are numbers without decimal parts. It also consists of negative numbers. For example, 5, -11, 0, 12, etc.\n",
            "\n",
            "Floating-point literals are numbers that contain decimal parts.\n",
            "\n",
            "Just like integers, floating-point numbers can also be both positive and negative. For example, 2.5, 6.76, 0.0, -9.45, etc.\n",
            "\n",
            "Complex literals are numbers that represent complex numbers....\n",
            "Metadata: {'title': 'Python Variables and Literals (With Examples)', 'chunk_id': '6', 'url': 'https://www.programiz.com/python-programming/variables-constants-literals', 'word_count': '604'}\n",
            "Embedding: [ 0.02222025 -0.03990968 -0.01120166  0.00913645 -0.05960266 -0.05497389\n",
            " -0.02583057  0.0670329   0.05872495 -0.02019296] ...\n",
            "\n",
            "Document 8: r example, 2.5, 6.76, 0.0, -9.45, etc.\n",
            "\n",
            "Complex literals are numbers that represent complex numbers.\n",
            "\n",
            "Here, numerals are in the form a + bj, where a is real and b is imaginary. For example, 6+9j, 2+3j.\n",
            "\n",
            "In Python, texts wrapped inside quotation marks are called string literals..\n",
            "\n",
            "Here, True is a boolean literal assigned to is_pass.\n",
            "\n",
            "Character literals are unicode characters enclosed in a quote. For example,\n",
            "\n",
            "Here, S is a character literal assigned to some_character....\n",
            "Metadata: {'url': 'https://www.programiz.com/python-programming/variables-constants-literals', 'title': 'Python Variables and Literals (With Examples)', 'chunk_id': '7', 'word_count': '604'}\n",
            "Embedding: [-0.04089407 -0.0230275  -0.03895511  0.08491316 -0.04358736 -0.06317306\n",
            " -0.0261794   0.06368075  0.03731785 -0.00293655] ...\n",
            "\n",
            "Document 9: acters enclosed in a quote. For example,\n",
            "\n",
            "Here, S is a character literal assigned to some_character.\n",
            "\n",
            "Python contains one special literal None. We use it to specify a null variable. For example,\n",
            "\n",
            "Here, we get None as an output as the value variable has no value assigned to it.\n",
            "\n",
            "Let's see examples of four different collection literals. List, Tuple, Dict, and Set literals....\n",
            "Metadata: {'title': 'Python Variables and Literals (With Examples)', 'url': 'https://www.programiz.com/python-programming/variables-constants-literals', 'word_count': '604', 'chunk_id': '8'}\n",
            "Embedding: [-0.06133299 -0.02903847 -0.03619236  0.08943594 -0.05534134 -0.00238612\n",
            "  0.04804628  0.02936332  0.06304923  0.02319366] ...\n",
            "\n",
            "Document 10:  it.\n",
            "\n",
            "Let's see examples of four different collection literals. List, Tuple, Dict, and Set literals.\n",
            "\n",
            "In the above example, we created a list of fruits, a tuple of numbers, a dictionary of alphabets having values with keys designated to each value and a set of vowels.\n",
            "\n",
            "To learn more about literal collections, refer to Python Data Types.\n",
            "\n",
            "Share on: Did you find this article helpful? Sorry about that. How can we improve it? Feedback * Leave this field blank...\n",
            "Metadata: {'url': 'https://www.programiz.com/python-programming/variables-constants-literals', 'chunk_id': '9', 'word_count': '604', 'title': 'Python Variables and Literals (With Examples)'}\n",
            "Embedding: [ 0.01551259 -0.01883682  0.01562929  0.03723887 -0.09345087 -0.03826467\n",
            " -0.00864414 -0.02113619  0.01819164  0.00928134] ...\n"
          ]
        }
      ],
      "source": [
        "# Retrieve the stored embeddings directly\n",
        "results = collection.peek()  # Returns first 10 items by default\n",
        "\n",
        "for i in range(len(results[\"documents\"])):\n",
        "    print(f\"\\nDocument {i+1}: {results['documents'][i][:1000]}...\")  # Truncated content\n",
        "    print(\"Metadata:\", results[\"metadatas\"][i])\n",
        "    print(\"Embedding:\", results[\"embeddings\"][i][:10], \"...\")       # Truncated vector\n",
        "\n"
      ]
    },
    {
      "cell_type": "markdown",
      "metadata": {
        "id": "LT8PERPUzBDQ"
      },
      "source": [
        "## Phase 6: RAG System - Retrieval and Generation\n",
        "\n",
        "This phase retrieves the most relevant text chunks from Chroma based on a user's question, then uses a language model like Mistral AI to generate an informative response using those chunks.\n"
      ]
    },
    {
      "cell_type": "code",
      "execution_count": null,
      "metadata": {
        "id": "IU2QbEDK4zAw"
      },
      "outputs": [],
      "source": [
        "def retrieve_relevant_chunks(query, n_results=5):\n",
        "    \"\"\"Retrieve the most relevant chunks for a query.\"\"\"\n",
        "    results = collection.query(\n",
        "        query_texts=[query],\n",
        "        n_results=n_results\n",
        "    )\n",
        "\n",
        "    retrieved_chunks = []\n",
        "    for doc, metadata, distance in zip(\n",
        "        results['documents'][0],\n",
        "        results['metadatas'][0],\n",
        "        results['distances'][0]\n",
        "    ):\n",
        "        retrieved_chunks.append({\n",
        "            'content': doc,\n",
        "            'metadata': metadata,\n",
        "            'relevance': 1-distance  # Higher means more relevant\n",
        "        })\n",
        "\n",
        "    return retrieved_chunks\n"
      ]
    },
    {
      "cell_type": "code",
      "execution_count": null,
      "metadata": {
        "colab": {
          "base_uri": "https://localhost:8080/"
        },
        "id": "Ac5oBh-S43tz",
        "outputId": "79efa8c3-7dbb-4933-cc21-e5a7ac6306ad"
      },
      "outputs": [
        {
          "name": "stdout",
          "output_type": "stream",
          "text": [
            "\n",
            "Phase 5 Complete: Vector store created with Chroma!\n",
            "we can now query your knowledge base using the retrieve_relevant_chunks() function.\n"
          ]
        }
      ],
      "source": [
        "import inspect\n",
        "with open(\"web_scraped_data__/retrieval_function.py\", \"w\") as f:\n",
        "    f.write(inspect.getsource(retrieve_relevant_chunks))\n",
        "    f.write(\"\\n\\n# Example usage:\\n\")\n",
        "    f.write(\"# from chromadb import PersistentClient\\n\")\n",
        "    f.write(\"# client = PersistentClient(path='web_scraped_data/chroma_db')\\n\")\n",
        "    f.write(\"# collection = client.get_collection(name='your_collection_name')\\n\")\n",
        "    f.write(\"# results = retrieve_relevant_chunks('What is a variable?', collection)\\n\")\n",
        "\n",
        "print(\"\\nPhase 5 Complete: Vector store created with Chroma!\")\n",
        "print(\"we can now query your knowledge base using the retrieve_relevant_chunks() function.\")"
      ]
    },
    {
      "cell_type": "code",
      "execution_count": null,
      "metadata": {
        "colab": {
          "base_uri": "https://localhost:8080/"
        },
        "id": "hKKQbgNY5_D9",
        "outputId": "e6290443-a1a1-43f4-8567-ce3b00823728"
      },
      "outputs": [
        {
          "data": {
            "text/plain": [
              "[{'content': \"Learn Python practically and Get Certified.\\n\\nCreated with over a decade of experience and thousands of feedback.\\n\\nLearn Python practically and Get Certified.\\n\\nIn the previous tutorial you learned about Python comments. Now, let's learn about variables and literals in Python.\\n\\nIn programming, a variable is a container (storage area) to hold data. For example,\\n\\nAs we can see from the above example, we use the assignment operator = to assign a value to a variable.\",\n",
              "  'metadata': {'title': 'Python Variables and Literals (With Examples)',\n",
              "   'word_count': '604',\n",
              "   'chunk_id': '0',\n",
              "   'url': 'https://www.programiz.com/python-programming/variables-constants-literals'},\n",
              "  'relevance': 0.41486525535583496},\n",
              " {'content': \"we can see from the above example, we use the assignment operator = to assign a value to a variable.\\n\\nIn the above example, we assigned the value programiz.pro to the site_name variable. Then, we printed out the value assigned to site_name\\n\\nNote: Python is a type-inferred language, so you don't have to explicitly define the variable type. It automatically knows that programiz.pro is a string and declares the site_name variable as a string.\",\n",
              "  'metadata': {'url': 'https://www.programiz.com/python-programming/variables-constants-literals',\n",
              "   'chunk_id': '1',\n",
              "   'title': 'Python Variables and Literals (With Examples)',\n",
              "   'word_count': '604'},\n",
              "  'relevance': 0.23692142963409424},\n",
              " {'content': \"f you want to create a variable name having two words, use underscore to separate them. For example:\\n\\n5. Python is case-sensitive. So num and Num are different variables. For example,\\n\\n6. Avoid using keywords like if, True, class, etc. as variable names.\\n\\nLiterals are representations of fixed values in a program. They can be numbers, characters, or strings, etc. For example, 'Hello, World!', 12, 23.0, 'C', etc.\\n\\nLiterals are often used to assign values to variables or constants. For example,\",\n",
              "  'metadata': {'chunk_id': '4',\n",
              "   'url': 'https://www.programiz.com/python-programming/variables-constants-literals',\n",
              "   'word_count': '604',\n",
              "   'title': 'Python Variables and Literals (With Examples)'},\n",
              "  'relevance': 0.22721421718597412},\n",
              " {'content': '2.2 The Interpreter and Its Environment . . . . . . . . . . . . . . . . . . . . . . . . . . . . . . . 6 3 An Informal Introduction to Python 9 3.1 Using Python as a Calculator . . . . . . . . . . . . . . . . . . . . . . . . . . . . . . . . . . . . 9 3.2 First Steps Towards Programming . . . . . . . . . . . . . . . . . . . . . . . . . . . . . . . . . 16 4 More Control Flow T ools 19 4.1ifStatements . . . . . . . . . . . . . . . . . . . . . . . . . . . . . . . . . . . . . . . . . . . ',\n",
              "  'metadata': {'url': 'https://bugs.python.org/file47781/Tutorial_EDIT.pdf',\n",
              "   'title': 'Tutorial_EDIT.pdf',\n",
              "   'chunk_id': '40',\n",
              "   'word_count': '48471'},\n",
              "  'relevance': 0.2195591926574707},\n",
              " {'content': 'ntaining Python deﬁnitions and statements. The ﬁle name is the module name with the suﬃx .pyappended. Within a module, the module’s name (as a string) is available as the value of the global variable __name__ ',\n",
              "  'metadata': {'url': 'https://bugs.python.org/file47781/Tutorial_EDIT.pdf',\n",
              "   'title': 'Tutorial_EDIT.pdf',\n",
              "   'chunk_id': '306',\n",
              "   'word_count': '48471'},\n",
              "  'relevance': 0.21643030643463135}]"
            ]
          },
          "execution_count": 15,
          "metadata": {},
          "output_type": "execute_result"
        }
      ],
      "source": [
        "retrieve_relevant_chunks(\"Variables in python?\")"
      ]
    },
    {
      "cell_type": "markdown",
      "metadata": {
        "id": "ugdgeG5qfqC7"
      },
      "source": [
        "# Generating the Answers"
      ]
    },
    {
      "cell_type": "code",
      "execution_count": null,
      "metadata": {
        "id": "0JjCcBR6-Xqa"
      },
      "outputs": [],
      "source": [
        "def format_context(chunks):\n",
        "    \"\"\"\n",
        "    Format retrieved chunks into a string format to provide as context to the LLM.\n",
        "    \"\"\"\n",
        "    context_parts = [\n",
        "        f\"Source {i+1} [{chunk['metadata']['title']}]:\\n{chunk['content']}\\n\"\n",
        "        for i, chunk in enumerate(chunks)\n",
        "    ]\n",
        "    return \"\\n\".join(context_parts)\n"
      ]
    },
    {
      "cell_type": "code",
      "execution_count": null,
      "metadata": {
        "id": "pqWE0zd8-Eb3"
      },
      "outputs": [],
      "source": [
        "def generate_answer_with_mistral(question, context, api_key=None):\n",
        "    \"\"\"\n",
        "    Generate an answer using Mistral AI API, based on retrieved context.\n",
        "    Falls back to a simple answer if the API fails.\n",
        "    \"\"\"\n",
        "    if not api_key:\n",
        "        api_key = os.getenv(\"MISTRAL_API_KEY\")\n",
        "        if not api_key:\n",
        "            return \"Error: Mistral API key not provided.\"\n",
        "\n",
        "    url = \"https://api.mistral.ai/v1/chat/completions\"\n",
        "\n",
        "    system_prompt = \"\"\"You are a helpful, friendly AI assistant designed to teach Python programming to children.\n",
        "Your answers should be:\n",
        "1. Simple and easy to understand for children\n",
        "2. Encouraging and positive\n",
        "3. Accurate and based only on the provided context\n",
        "4. Include simple examples when appropriate\n",
        "\n",
        "If you don't know the answer based on the context, say so politely and suggest where they might find more information.\"\"\"\n",
        "\n",
        "    user_prompt = f\"\"\"Please answer the following question about Python programming for kids.\n",
        "Use ONLY the information in the context provided below.\n",
        "\n",
        "CONTEXT:\n",
        "{context}\n",
        "\n",
        "QUESTION: {question}\"\"\"\n",
        "\n",
        "    headers = {\n",
        "        \"Content-Type\": \"application/json\",\n",
        "        \"Accept\": \"application/json\",\n",
        "        \"Authorization\": f\"Bearer {api_key}\"\n",
        "    }\n",
        "\n",
        "    payload = {\n",
        "        \"model\": \"mistral-small\",\n",
        "        \"messages\": [\n",
        "            {\"role\": \"system\", \"content\": system_prompt},\n",
        "            {\"role\": \"user\", \"content\": user_prompt}\n",
        "        ],\n",
        "        \"temperature\": 0.5,\n",
        "        \"max_tokens\": 500\n",
        "    }\n",
        "\n",
        "    try:\n",
        "        response = requests.post(url, headers=headers, data=json.dumps(payload))\n",
        "        response.raise_for_status()\n",
        "        result = response.json()\n",
        "        return result[\"choices\"][0][\"message\"][\"content\"]\n",
        "\n",
        "    except Exception as e:\n",
        "        print(f\"Error with Mistral API: {str(e)}\")\n"
      ]
    },
    {
      "cell_type": "code",
      "execution_count": null,
      "metadata": {
        "id": "66MIa_en-TF2"
      },
      "outputs": [],
      "source": [
        "def rag_answer(question, api_key=None, n_chunks=3):\n",
        "    \"\"\"\n",
        "    Complete RAG pipeline that retrieves context and generates an answer.\n",
        "    \"\"\"\n",
        "    print(f\"\\nProcessing question: {question}\")\n",
        "    print(\"Retrieving relevant context...\")\n",
        "    chunks = retrieve_relevant_chunks(question, n_results=n_chunks)\n",
        "    context = format_context(chunks)\n",
        "    print(f\"Retrieved {len(chunks)} relevant chunks\")\n",
        "\n",
        "    print(\"Generating answer with Mistral AI...\")\n",
        "    answer = generate_answer_with_mistral(question, context, api_key)\n",
        "\n",
        "    return {\n",
        "        'question': question,\n",
        "        'answer': answer,\n",
        "        'context_chunks': chunks\n",
        "    }"
      ]
    },
    {
      "cell_type": "code",
      "execution_count": null,
      "metadata": {
        "id": "0ba7yKVs-0Dn"
      },
      "outputs": [],
      "source": [
        "from IPython.display import display, Markdown\n",
        "def displayAnswer(q):\n",
        "  dicAnswer=rag_answer(q,\"7CgDqJnql8ORf9bQqj1rvc4aDfEHo549\")\n",
        "  print(\"3 relevant chunks : \")\n",
        "  structured_content = \"\"\n",
        "  for item in dicAnswer['context_chunks']:\n",
        "      structured_content += f\"### {item['metadata']['title']}\\n\"\n",
        "      structured_content += f\"**Relevance**: {item['relevance']}\\n\"\n",
        "      structured_content += f\"**Word Count**: {item['metadata']['word_count']}\\n\"\n",
        "      structured_content += f\"[Read More]({item['metadata']['url']})\\n\"\n",
        "      structured_content += f\"\\n{item['content']}\\n\\n---\\n\\n\"\n",
        "\n",
        "  display(Markdown(structured_content))\n",
        "  print(\"Answer : \")\n",
        "  display(Markdown(dicAnswer['answer']))"
      ]
    },
    {
      "cell_type": "markdown",
      "metadata": {
        "id": "lznRU4VizgId"
      },
      "source": [
        "Overall, we:\n",
        "\n",
        "1. Embeds the question using the same model as used for the document chunks.\n",
        "2. Queries the Chroma vector store to retrieve the top relevant chunks.\n",
        "3. Constructs a prompt combining the context chunks and the user question.\n",
        "4. Passes the prompt to a generative language model (e.g., Mistral AI ) to generate an answer.\n",
        "5. Displays:\n",
        "   - The retrieved chunks with their relevance score and word count.\n",
        "   - A link to the original source (if available).\n",
        "   - The generated answer from the language model.\n",
        "\n",
        "This allows users to verify the source context used to generate the response, improving transparency and trust."
      ]
    },
    {
      "cell_type": "markdown",
      "metadata": {
        "id": "aAqsDFmb0b9V"
      },
      "source": [
        "# Final Test: Sample Questions and Answers\n",
        "\n",
        "Below are five sample questions that were used to test the chatbot. For each, the system retrieves relevant context from the document store and generates an answer using the RAG pipeline.\n",
        "\n"
      ]
    },
    {
      "cell_type": "code",
      "execution_count": null,
      "metadata": {
        "colab": {
          "base_uri": "https://localhost:8080/",
          "height": 953
        },
        "id": "8PosuN82IBMq",
        "outputId": "46677ecc-dc60-49eb-f628-ebb1285ac3b4"
      },
      "outputs": [
        {
          "name": "stdout",
          "output_type": "stream",
          "text": [
            "\n",
            "Processing question: what is While loop in python?\n",
            "Retrieving relevant context...\n",
            "Retrieved 3 relevant chunks\n",
            "Generating answer with Mistral AI...\n",
            "3 relevant chunks : \n"
          ]
        },
        {
          "data": {
            "text/markdown": [
              "### Python for Loop (With Examples)\n",
              "**Relevance**: 0.2761881947517395\n",
              "**Word Count**: 541\n",
              "[Read More](https://www.programiz.com/python-programming/for-loop)\n",
              "\n",
              "e have created a list named languages. Since the list has three elements, the loop iterates 3 times.\n",
              "\n",
              "The for loop iterates over the elements of sequence in order, and in each iteration, the body of the loop is executed.\n",
              "\n",
              "The loop ends after the body of the loop is executed for the last item.\n",
              "\n",
              "In Python, we use indentation (spaces at the beginning of a line) to define a block of code, such as the body of a loop. For example,\n",
              "\n",
              "---\n",
              "\n",
              "### Python for Loop (With Examples)\n",
              "**Relevance**: 0.22722387313842773\n",
              "**Word Count**: 541\n",
              "[Read More](https://www.programiz.com/python-programming/for-loop)\n",
              "\n",
              "aces at the beginning of a line) to define a block of code, such as the body of a loop. For example,\n",
              "\n",
              "Here, print('Last statement') is outside the body of the loop. Therefore, this statement is executed only once at the end.\n",
              "\n",
              "If we iterate through a string, we get individual characters of the string one by one.\n",
              "\n",
              "Here, we have printed each character of the string language using a for loop.\n",
              "\n",
              "In Python, the range() function returns a sequence of numbers. For example,\n",
              "\n",
              "---\n",
              "\n",
              "### Tutorial_EDIT.pdf\n",
              "**Relevance**: 0.1915910243988037\n",
              "**Word Count**: 48471\n",
              "[Read More](https://bugs.python.org/file47781/Tutorial_EDIT.pdf)\n",
              "\n",
              "t line contains a multiple assignment : the variables aandbsimultaneously get the new values 0 and 1. On the last line this is used again, demonstrating that the expressions on the right-hand side are all evaluated ﬁrst before any of the assignments take place. The right-hand side expressions are evaluated from the left to the right. •Thewhileloop executes as long as the condition (here: a < 10) remains true. In Python, like in C, any non-zero integer value is true; zero is false\n",
              "\n",
              "---\n",
              "\n"
            ],
            "text/plain": [
              "<IPython.core.display.Markdown object>"
            ]
          },
          "metadata": {},
          "output_type": "display_data"
        },
        {
          "name": "stdout",
          "output_type": "stream",
          "text": [
            "Answer : \n"
          ]
        },
        {
          "data": {
            "text/markdown": [
              "A while loop in Python is a type of loop that keeps running a block of code as long as a certain condition is true. It's a bit different from the for loop we learned about earlier, which repeats a block of code a specific number of times.\n",
              "\n",
              "With a while loop, you can tell Python to keep doing something until a specific condition is met. For example, you might use a while loop to ask a user for their name until they enter a valid response.\n",
              "\n",
              "Here's an example of what a while loop might look like in Python:\n",
              "\n",
              "while condition:\n",
              "# this is the body of the loop\n",
              "\n",
              "In this example, \"condition\" is a statement that evaluates to either True or False. As long as the condition is True, the body of the loop will keep running over and over again. Once the condition becomes False, the loop will stop.\n",
              "\n",
              "Just like with for loops, it's important to use indentation to define the body of the while loop. Any code that you want to be repeated should be indented under the while statement.\n",
              "\n",
              "Also, keep in mind that it's important to make sure that the condition will eventually become False, or else the loop will keep running forever! This is called an infinite loop, and it can cause problems if you're not careful.\n",
              "\n",
              "I hope that helps! Let me know if you have any other questions about while loops in Python."
            ],
            "text/plain": [
              "<IPython.core.display.Markdown object>"
            ]
          },
          "metadata": {},
          "output_type": "display_data"
        }
      ],
      "source": [
        "displayAnswer(\"what is While loop in python?\")"
      ]
    },
    {
      "cell_type": "code",
      "execution_count": null,
      "metadata": {
        "colab": {
          "base_uri": "https://localhost:8080/",
          "height": 905
        },
        "id": "lYWC-xwUIDuT",
        "outputId": "35964d94-0a1a-4d89-92bd-3c2aab996d5f"
      },
      "outputs": [
        {
          "name": "stdout",
          "output_type": "stream",
          "text": [
            "\n",
            "Processing question: what is if conditions in Python?\n",
            "Retrieving relevant context...\n",
            "Retrieved 3 relevant chunks\n",
            "Generating answer with Mistral AI...\n",
            "3 relevant chunks : \n"
          ]
        },
        {
          "data": {
            "text/markdown": [
              "### Python if, if...else Statement (With Examples)\n",
              "**Relevance**: 0.45283710956573486\n",
              "**Word Count**: 628\n",
              "[Read More](https://www.programiz.com/python-programming/if-elif-else)\n",
              "\n",
              "f user enters 10, the condition number > 0 evaluates to True. Therefore, the body of if is executed.\n",
              "\n",
              "If user enters -2, the condition number > 0 evaluates to False. Therefore, the body of if is skipped from execution.\n",
              "\n",
              "Python uses indentation to define a block of code, such as the body of an if statement. For example,\n",
              "\n",
              "Here, the body of if has two statements. We know this because two statements (immediately after if) start with indentation.\n",
              "\n",
              "---\n",
              "\n",
              "### Python if, if...else Statement (With Examples)\n",
              "**Relevance**: 0.44720160961151123\n",
              "**Word Count**: 628\n",
              "[Read More](https://www.programiz.com/python-programming/if-elif-else)\n",
              "\n",
              "rtant to note that regardless the value of number variable, only one block of code will be executed.\n",
              "\n",
              "It is possible to include an if statement inside another if statement. For example,\n",
              "\n",
              "In certain situations, the if statement can be simplified into a single line. For example,\n",
              "\n",
              "This one-liner approach retains the same functionality but in a more concise format.\n",
              "\n",
              "Python doesn't have a ternary operator. However, we can use if...else to work like a ternary operator in other languages. For example,\n",
              "\n",
              "---\n",
              "\n",
              "### Python if, if...else Statement (With Examples)\n",
              "**Relevance**: 0.37509429454803467\n",
              "**Word Count**: 628\n",
              "[Read More](https://www.programiz.com/python-programming/if-elif-else)\n",
              "\n",
              "s two statements. We know this because two statements (immediately after if) start with indentation.\n",
              "\n",
              "We usually use four spaces for indentation in Python, although any number of spaces works as long as we are consistent.\n",
              "\n",
              "You will get an error if you write the above code like this:\n",
              "\n",
              "Here, we haven't used indentation after the if statement. In this case, Python thinks our if statement is empty, which results in an error.\n",
              "\n",
              "---\n",
              "\n"
            ],
            "text/plain": [
              "<IPython.core.display.Markdown object>"
            ]
          },
          "metadata": {},
          "output_type": "display_data"
        },
        {
          "name": "stdout",
          "output_type": "stream",
          "text": [
            "Answer : \n"
          ]
        },
        {
          "data": {
            "text/markdown": [
              "When we talk about \"if conditions\" in Python, we're referring to the concept of using the `if` keyword to make decisions based on whether a certain condition is true or false. For example, you might have an `if` statement that checks if a number is greater than 0. If that condition is true, then the code inside the `if` statement will run. If the condition is not true, then the code inside the `if` statement will be skipped over.\n",
              "\n",
              "Here's a simple example:\n",
              "\n",
              "```python\n",
              "number = 10\n",
              "\n",
              "if number > 0:\n",
              "  print(\"The number is positive!\")\n",
              "```\n",
              "\n",
              "In this case, the condition `number > 0` is true, so the message \"The number is positive!\" will be printed to the screen.\n",
              "\n",
              "It's also worth noting that Python uses indentation to define blocks of code. In the example above, the `print` statement is indented to show that it's part of the `if` statement's block of code. If we didn't include that indentation, we would get an error.\n",
              "\n",
              "I hope that helps! Let me know if you have any other questions about `if` conditions in Python."
            ],
            "text/plain": [
              "<IPython.core.display.Markdown object>"
            ]
          },
          "metadata": {},
          "output_type": "display_data"
        }
      ],
      "source": [
        "displayAnswer(\"what is if conditions in Python?\")"
      ]
    },
    {
      "cell_type": "code",
      "execution_count": null,
      "metadata": {
        "colab": {
          "base_uri": "https://localhost:8080/",
          "height": 841
        },
        "id": "W7jgXLeOISu0",
        "outputId": "8f9ef98b-c29f-4ea9-e7dd-d86741f1c594"
      },
      "outputs": [
        {
          "name": "stdout",
          "output_type": "stream",
          "text": [
            "\n",
            "Processing question: what is variable meaning in python?\n",
            "Retrieving relevant context...\n",
            "Retrieved 3 relevant chunks\n",
            "Generating answer with Mistral AI...\n",
            "3 relevant chunks : \n"
          ]
        },
        {
          "data": {
            "text/markdown": [
              "### Python Variables and Literals (With Examples)\n",
              "**Relevance**: 0.4003611207008362\n",
              "**Word Count**: 604\n",
              "[Read More](https://www.programiz.com/python-programming/variables-constants-literals)\n",
              "\n",
              "Learn Python practically and Get Certified.\n",
              "\n",
              "Created with over a decade of experience and thousands of feedback.\n",
              "\n",
              "Learn Python practically and Get Certified.\n",
              "\n",
              "In the previous tutorial you learned about Python comments. Now, let's learn about variables and literals in Python.\n",
              "\n",
              "In programming, a variable is a container (storage area) to hold data. For example,\n",
              "\n",
              "As we can see from the above example, we use the assignment operator = to assign a value to a variable.\n",
              "\n",
              "---\n",
              "\n",
              "### Tutorial_EDIT.pdf\n",
              "**Relevance**: 0.28519517183303833\n",
              "**Word Count**: 48471\n",
              "[Read More](https://bugs.python.org/file47781/Tutorial_EDIT.pdf)\n",
              "\n",
              "ntaining Python deﬁnitions and statements. The ﬁle name is the module name with the suﬃx .pyappended. Within a module, the module’s name (as a string) is available as the value of the global variable __name__ \n",
              "\n",
              "---\n",
              "\n",
              "### Python Variables and Literals (With Examples)\n",
              "**Relevance**: 0.2008957862854004\n",
              "**Word Count**: 604\n",
              "[Read More](https://www.programiz.com/python-programming/variables-constants-literals)\n",
              "\n",
              "we can see from the above example, we use the assignment operator = to assign a value to a variable.\n",
              "\n",
              "In the above example, we assigned the value programiz.pro to the site_name variable. Then, we printed out the value assigned to site_name\n",
              "\n",
              "Note: Python is a type-inferred language, so you don't have to explicitly define the variable type. It automatically knows that programiz.pro is a string and declares the site_name variable as a string.\n",
              "\n",
              "---\n",
              "\n"
            ],
            "text/plain": [
              "<IPython.core.display.Markdown object>"
            ]
          },
          "metadata": {},
          "output_type": "display_data"
        },
        {
          "name": "stdout",
          "output_type": "stream",
          "text": [
            "Answer : \n"
          ]
        },
        {
          "data": {
            "text/markdown": [
              "Hello! I'm here to help you with Python programming questions.\n",
              "\n",
              "A variable in Python is like a container where you can store data. You can think of it as a label for a value that you want to use in your program. For example, you might have a variable called 'age' that stores your age as a number.\n",
              "\n",
              "In Python, you don't have to tell the computer what type of data a variable will store. The computer can figure it out on its own. So if you assign the string 'programiz.pro' to a variable called 'site_name', Python will automatically know that 'site_name' is a string.\n",
              "\n",
              "Here's an example:\n",
              "\n",
              "site\\_name = 'programiz.pro'\n",
              "print(site\\_name)\n",
              "\n",
              "In this example, we use the assignment operator '=' to assign the value 'programiz.pro' to the variable 'site\\_name'. Then we use the 'print' function to display the value of 'site\\_name'.\n",
              "\n",
              "I hope that helps! Let me know if you have any other questions."
            ],
            "text/plain": [
              "<IPython.core.display.Markdown object>"
            ]
          },
          "metadata": {},
          "output_type": "display_data"
        }
      ],
      "source": [
        "displayAnswer(\"what is variable meaning in python?\")"
      ]
    },
    {
      "cell_type": "code",
      "execution_count": null,
      "metadata": {
        "colab": {
          "base_uri": "https://localhost:8080/",
          "height": 835
        },
        "id": "vkHmDRcsIaPg",
        "outputId": "4bf32027-dd62-4e42-dbcc-beb79abf6174"
      },
      "outputs": [
        {
          "name": "stdout",
          "output_type": "stream",
          "text": [
            "\n",
            "Processing question: what is Types of Numbers in Python?\n",
            "Retrieving relevant context...\n",
            "Retrieved 3 relevant chunks\n",
            "Generating answer with Mistral AI...\n",
            "3 relevant chunks : \n"
          ]
        },
        {
          "data": {
            "text/markdown": [
              "### Python Numbers, Type Conversion and Mathematics (With Examples)\n",
              "**Relevance**: 0.5917428433895111\n",
              "**Word Count**: 482\n",
              "[Read More](https://www.programiz.com/python-programming/numbers)\n",
              "\n",
              "Learn Python practically and Get Certified.\n",
              "\n",
              "Created with over a decade of experience and thousands of feedback.\n",
              "\n",
              "Learn Python practically and Get Certified.\n",
              "\n",
              "The number data types are used to store the numeric values.\n",
              "\n",
              "Python supports integers, floating-point numbers and complex numbers. They are defined as int, float, and complex classes in Python.\n",
              "\n",
              "Integers and floating points are separated by the presence or absence of a decimal point. For instance,\n",
              "\n",
              "---\n",
              "\n",
              "### Tutorial_EDIT.pdf\n",
              "**Relevance**: 0.46278780698776245\n",
              "**Word Count**: 48471\n",
              "[Read More](https://bugs.python.org/file47781/Tutorial_EDIT.pdf)\n",
              "\n",
              " numbers (e.g. 2,4,20) have type int, the ones with a fractional part (e.g. 5.0,1.6) have type float. We will see more about numeric types later in the tutorial. 9 Python Tutorial, Release 3.7.0 Division ( /) always returns a ﬂoat\n",
              "\n",
              "---\n",
              "\n",
              "### Python Numbers, Type Conversion and Mathematics (With Examples)\n",
              "**Relevance**: 0.3217265009880066\n",
              "**Word Count**: 482\n",
              "[Read More](https://www.programiz.com/python-programming/numbers)\n",
              "\n",
              "grammers need to work with binary (base 2), hexadecimal (base 16) and octal (base 8) number systems.\n",
              "\n",
              "In Python, we can represent these numbers by appropriately placing a prefix before that number. The following table lists these prefixes.\n",
              "\n",
              "In programming, type conversion is the process of converting one type of number into another.\n",
              "\n",
              "Operations like addition, subtraction convert integers to float implicitly (automatically), if one of the operands is float. For example,\n",
              "\n",
              "---\n",
              "\n"
            ],
            "text/plain": [
              "<IPython.core.display.Markdown object>"
            ]
          },
          "metadata": {},
          "output_type": "display_data"
        },
        {
          "name": "stdout",
          "output_type": "stream",
          "text": [
            "Answer : \n"
          ]
        },
        {
          "data": {
            "text/markdown": [
              "In Python, there are different types of numbers that you can work with! There are integers (like 5, 10, 20), which are numbers without any decimal points. Floating-point numbers (like 5.0, 1.6) have a decimal point, and you might also come across complex numbers (like 2+3j) which involve imaginary parts.\n",
              "\n",
              "Sometimes, you might need to work with other number systems like binary (base 2), hexadecimal (base 16), or octal (base 8). In Python, you can represent these numbers by placing a prefix before them. Here's a table to help you remember:\n",
              "\n",
              "- Binary: 0b\n",
              "- Hexadecimal: 0x\n",
              "- Octal: 0o\n",
              "\n",
              "As you learn more about Python, you'll find that there are operations where converting one type of number to another happens automatically. For example, when you do addition or subtraction, and if one of the operands is a float, then Python will convert the integer to a float automatically.\n",
              "\n",
              "Keep practicing and having fun learning Python! You're doing a great job!"
            ],
            "text/plain": [
              "<IPython.core.display.Markdown object>"
            ]
          },
          "metadata": {},
          "output_type": "display_data"
        }
      ],
      "source": [
        "displayAnswer(\"what is Types of Numbers in Python?\")"
      ]
    },
    {
      "cell_type": "code",
      "execution_count": null,
      "metadata": {
        "colab": {
          "base_uri": "https://localhost:8080/",
          "height": 806
        },
        "id": "Aj8TUld1ovOV",
        "outputId": "e5f98e17-5a77-42ca-b175-680e5828641c"
      },
      "outputs": [
        {
          "name": "stdout",
          "output_type": "stream",
          "text": [
            "\n",
            "Processing question: how to loop in Python?\n",
            "Retrieving relevant context...\n",
            "Retrieved 3 relevant chunks\n",
            "Generating answer with Mistral AI...\n",
            "3 relevant chunks : \n"
          ]
        },
        {
          "data": {
            "text/markdown": [
              "### Python for Loop (With Examples)\n",
              "**Relevance**: 0.266865611076355\n",
              "**Word Count**: 541\n",
              "[Read More](https://www.programiz.com/python-programming/for-loop)\n",
              "\n",
              "e have created a list named languages. Since the list has three elements, the loop iterates 3 times.\n",
              "\n",
              "The for loop iterates over the elements of sequence in order, and in each iteration, the body of the loop is executed.\n",
              "\n",
              "The loop ends after the body of the loop is executed for the last item.\n",
              "\n",
              "In Python, we use indentation (spaces at the beginning of a line) to define a block of code, such as the body of a loop. For example,\n",
              "\n",
              "---\n",
              "\n",
              "### Python for Loop (With Examples)\n",
              "**Relevance**: 0.16251826286315918\n",
              "**Word Count**: 541\n",
              "[Read More](https://www.programiz.com/python-programming/for-loop)\n",
              "\n",
              "Learn Python practically and Get Certified.\n",
              "\n",
              "Created with over a decade of experience and thousands of feedback.\n",
              "\n",
              "Learn Python practically and Get Certified.\n",
              "\n",
              "In Python, we use a for loop to iterate over sequences such as lists, strings, dictionaries, etc. For example,\n",
              "\n",
              "In the above example, we have created a list named languages. Since the list has three elements, the loop iterates 3 times.\n",
              "\n",
              "---\n",
              "\n",
              "### Tutorial_EDIT.pdf\n",
              "**Relevance**: 0.13413816690444946\n",
              "**Word Count**: 48471\n",
              "[Read More](https://bugs.python.org/file47781/Tutorial_EDIT.pdf)\n",
              "\n",
              "dioms of the Python language, rather than implementing code using concepts common to other languages. For example, a common idiom in Python is to loop over all elements of an iterable using a forstatement. Many other languages don’t have this type of construct, so people unfamiliar with Python sometimes use a numerical counter instead: foriinrange(len(food)): print(food[i]) 122 Appendix A\n",
              "\n",
              "---\n",
              "\n"
            ],
            "text/plain": [
              "<IPython.core.display.Markdown object>"
            ]
          },
          "metadata": {},
          "output_type": "display_data"
        },
        {
          "name": "stdout",
          "output_type": "stream",
          "text": [
            "Answer : \n"
          ]
        },
        {
          "data": {
            "text/markdown": [
              "To loop in Python, you can use a \"for\" loop! This kind of loop is used to iterate over sequences such as lists, strings, or dictionaries. Here's a simple example of how to use a \"for\" loop with a list:\n",
              "\n",
              "```python\n",
              "languages = [\"Python\", \"Java\", \"C++\"]\n",
              "for language in languages:\n",
              "    print(language)\n",
              "```\n",
              "\n",
              "In this example, the loop goes through each element in the \"languages\" list one-by-one. For every element, it executes the indented code below it, which is printing the current language. This way, you can easily loop through and do something with each item in a sequence!\n",
              "\n",
              "By the way, a helpful tip from the context is that in Python, we use indentation (spaces at the beginning of a line) to define a block of code, like the body of a loop. So, remember to use indentation correctly when writing your \"for\" loops!"
            ],
            "text/plain": [
              "<IPython.core.display.Markdown object>"
            ]
          },
          "metadata": {},
          "output_type": "display_data"
        }
      ],
      "source": [
        "displayAnswer(\"how to loop in Python?\")"
      ]
    }
  ],
  "metadata": {
    "accelerator": "GPU",
    "colab": {
      "gpuType": "T4",
      "provenance": []
    },
    "kernelspec": {
      "display_name": "Python 3",
      "name": "python3"
    },
    "language_info": {
      "name": "python"
    },
    "widgets": {
      "application/vnd.jupyter.widget-state+json": {
        "3abd0cd55e3d43d5898cf1a1bd2f7771": {
          "model_module": "@jupyter-widgets/controls",
          "model_module_version": "1.5.0",
          "model_name": "HBoxModel",
          "state": {
            "_dom_classes": [],
            "_model_module": "@jupyter-widgets/controls",
            "_model_module_version": "1.5.0",
            "_model_name": "HBoxModel",
            "_view_count": null,
            "_view_module": "@jupyter-widgets/controls",
            "_view_module_version": "1.5.0",
            "_view_name": "HBoxView",
            "box_style": "",
            "children": [
              "IPY_MODEL_7efe3645cab844479366ad8ea156718b",
              "IPY_MODEL_59aae5dafc1c415ca190f57509da2618",
              "IPY_MODEL_f071b089903b4bd783925661e9a21ad0"
            ],
            "layout": "IPY_MODEL_e81fde548cc64ee29ae9d6c5cf2794c4"
          }
        },
        "44a1572704924cd1a670247b75b0e1e0": {
          "model_module": "@jupyter-widgets/base",
          "model_module_version": "1.2.0",
          "model_name": "LayoutModel",
          "state": {
            "_model_module": "@jupyter-widgets/base",
            "_model_module_version": "1.2.0",
            "_model_name": "LayoutModel",
            "_view_count": null,
            "_view_module": "@jupyter-widgets/base",
            "_view_module_version": "1.2.0",
            "_view_name": "LayoutView",
            "align_content": null,
            "align_items": null,
            "align_self": null,
            "border": null,
            "bottom": null,
            "display": null,
            "flex": null,
            "flex_flow": null,
            "grid_area": null,
            "grid_auto_columns": null,
            "grid_auto_flow": null,
            "grid_auto_rows": null,
            "grid_column": null,
            "grid_gap": null,
            "grid_row": null,
            "grid_template_areas": null,
            "grid_template_columns": null,
            "grid_template_rows": null,
            "height": null,
            "justify_content": null,
            "justify_items": null,
            "left": null,
            "margin": null,
            "max_height": null,
            "max_width": null,
            "min_height": null,
            "min_width": null,
            "object_fit": null,
            "object_position": null,
            "order": null,
            "overflow": null,
            "overflow_x": null,
            "overflow_y": null,
            "padding": null,
            "right": null,
            "top": null,
            "visibility": null,
            "width": null
          }
        },
        "55a0436c3a1c473b908764f10b685f33": {
          "model_module": "@jupyter-widgets/base",
          "model_module_version": "1.2.0",
          "model_name": "LayoutModel",
          "state": {
            "_model_module": "@jupyter-widgets/base",
            "_model_module_version": "1.2.0",
            "_model_name": "LayoutModel",
            "_view_count": null,
            "_view_module": "@jupyter-widgets/base",
            "_view_module_version": "1.2.0",
            "_view_name": "LayoutView",
            "align_content": null,
            "align_items": null,
            "align_self": null,
            "border": null,
            "bottom": null,
            "display": null,
            "flex": null,
            "flex_flow": null,
            "grid_area": null,
            "grid_auto_columns": null,
            "grid_auto_flow": null,
            "grid_auto_rows": null,
            "grid_column": null,
            "grid_gap": null,
            "grid_row": null,
            "grid_template_areas": null,
            "grid_template_columns": null,
            "grid_template_rows": null,
            "height": null,
            "justify_content": null,
            "justify_items": null,
            "left": null,
            "margin": null,
            "max_height": null,
            "max_width": null,
            "min_height": null,
            "min_width": null,
            "object_fit": null,
            "object_position": null,
            "order": null,
            "overflow": null,
            "overflow_x": null,
            "overflow_y": null,
            "padding": null,
            "right": null,
            "top": null,
            "visibility": null,
            "width": null
          }
        },
        "59aae5dafc1c415ca190f57509da2618": {
          "model_module": "@jupyter-widgets/controls",
          "model_module_version": "1.5.0",
          "model_name": "FloatProgressModel",
          "state": {
            "_dom_classes": [],
            "_model_module": "@jupyter-widgets/controls",
            "_model_module_version": "1.5.0",
            "_model_name": "FloatProgressModel",
            "_view_count": null,
            "_view_module": "@jupyter-widgets/controls",
            "_view_module_version": "1.5.0",
            "_view_name": "ProgressView",
            "bar_style": "success",
            "description": "",
            "description_tooltip": null,
            "layout": "IPY_MODEL_8787225a30e242bfafa8d4c7914fb49d",
            "max": 34,
            "min": 0,
            "orientation": "horizontal",
            "style": "IPY_MODEL_80f0178d7fcb4ff083eff86e43f528c2",
            "value": 34
          }
        },
        "7efe3645cab844479366ad8ea156718b": {
          "model_module": "@jupyter-widgets/controls",
          "model_module_version": "1.5.0",
          "model_name": "HTMLModel",
          "state": {
            "_dom_classes": [],
            "_model_module": "@jupyter-widgets/controls",
            "_model_module_version": "1.5.0",
            "_model_name": "HTMLModel",
            "_view_count": null,
            "_view_module": "@jupyter-widgets/controls",
            "_view_module_version": "1.5.0",
            "_view_name": "HTMLView",
            "description": "",
            "description_tooltip": null,
            "layout": "IPY_MODEL_44a1572704924cd1a670247b75b0e1e0",
            "placeholder": "​",
            "style": "IPY_MODEL_cffe06d6b1fd450db6b25645130f8e77",
            "value": "Batches: 100%"
          }
        },
        "80f0178d7fcb4ff083eff86e43f528c2": {
          "model_module": "@jupyter-widgets/controls",
          "model_module_version": "1.5.0",
          "model_name": "ProgressStyleModel",
          "state": {
            "_model_module": "@jupyter-widgets/controls",
            "_model_module_version": "1.5.0",
            "_model_name": "ProgressStyleModel",
            "_view_count": null,
            "_view_module": "@jupyter-widgets/base",
            "_view_module_version": "1.2.0",
            "_view_name": "StyleView",
            "bar_color": null,
            "description_width": ""
          }
        },
        "8787225a30e242bfafa8d4c7914fb49d": {
          "model_module": "@jupyter-widgets/base",
          "model_module_version": "1.2.0",
          "model_name": "LayoutModel",
          "state": {
            "_model_module": "@jupyter-widgets/base",
            "_model_module_version": "1.2.0",
            "_model_name": "LayoutModel",
            "_view_count": null,
            "_view_module": "@jupyter-widgets/base",
            "_view_module_version": "1.2.0",
            "_view_name": "LayoutView",
            "align_content": null,
            "align_items": null,
            "align_self": null,
            "border": null,
            "bottom": null,
            "display": null,
            "flex": null,
            "flex_flow": null,
            "grid_area": null,
            "grid_auto_columns": null,
            "grid_auto_flow": null,
            "grid_auto_rows": null,
            "grid_column": null,
            "grid_gap": null,
            "grid_row": null,
            "grid_template_areas": null,
            "grid_template_columns": null,
            "grid_template_rows": null,
            "height": null,
            "justify_content": null,
            "justify_items": null,
            "left": null,
            "margin": null,
            "max_height": null,
            "max_width": null,
            "min_height": null,
            "min_width": null,
            "object_fit": null,
            "object_position": null,
            "order": null,
            "overflow": null,
            "overflow_x": null,
            "overflow_y": null,
            "padding": null,
            "right": null,
            "top": null,
            "visibility": null,
            "width": null
          }
        },
        "cffe06d6b1fd450db6b25645130f8e77": {
          "model_module": "@jupyter-widgets/controls",
          "model_module_version": "1.5.0",
          "model_name": "DescriptionStyleModel",
          "state": {
            "_model_module": "@jupyter-widgets/controls",
            "_model_module_version": "1.5.0",
            "_model_name": "DescriptionStyleModel",
            "_view_count": null,
            "_view_module": "@jupyter-widgets/base",
            "_view_module_version": "1.2.0",
            "_view_name": "StyleView",
            "description_width": ""
          }
        },
        "e81fde548cc64ee29ae9d6c5cf2794c4": {
          "model_module": "@jupyter-widgets/base",
          "model_module_version": "1.2.0",
          "model_name": "LayoutModel",
          "state": {
            "_model_module": "@jupyter-widgets/base",
            "_model_module_version": "1.2.0",
            "_model_name": "LayoutModel",
            "_view_count": null,
            "_view_module": "@jupyter-widgets/base",
            "_view_module_version": "1.2.0",
            "_view_name": "LayoutView",
            "align_content": null,
            "align_items": null,
            "align_self": null,
            "border": null,
            "bottom": null,
            "display": null,
            "flex": null,
            "flex_flow": null,
            "grid_area": null,
            "grid_auto_columns": null,
            "grid_auto_flow": null,
            "grid_auto_rows": null,
            "grid_column": null,
            "grid_gap": null,
            "grid_row": null,
            "grid_template_areas": null,
            "grid_template_columns": null,
            "grid_template_rows": null,
            "height": null,
            "justify_content": null,
            "justify_items": null,
            "left": null,
            "margin": null,
            "max_height": null,
            "max_width": null,
            "min_height": null,
            "min_width": null,
            "object_fit": null,
            "object_position": null,
            "order": null,
            "overflow": null,
            "overflow_x": null,
            "overflow_y": null,
            "padding": null,
            "right": null,
            "top": null,
            "visibility": null,
            "width": null
          }
        },
        "f071b089903b4bd783925661e9a21ad0": {
          "model_module": "@jupyter-widgets/controls",
          "model_module_version": "1.5.0",
          "model_name": "HTMLModel",
          "state": {
            "_dom_classes": [],
            "_model_module": "@jupyter-widgets/controls",
            "_model_module_version": "1.5.0",
            "_model_name": "HTMLModel",
            "_view_count": null,
            "_view_module": "@jupyter-widgets/controls",
            "_view_module_version": "1.5.0",
            "_view_name": "HTMLView",
            "description": "",
            "description_tooltip": null,
            "layout": "IPY_MODEL_55a0436c3a1c473b908764f10b685f33",
            "placeholder": "​",
            "style": "IPY_MODEL_fb21fa4a29924a12ba10c2ee6316ea32",
            "value": " 34/34 [00:02&lt;00:00, 21.44it/s]"
          }
        },
        "fb21fa4a29924a12ba10c2ee6316ea32": {
          "model_module": "@jupyter-widgets/controls",
          "model_module_version": "1.5.0",
          "model_name": "DescriptionStyleModel",
          "state": {
            "_model_module": "@jupyter-widgets/controls",
            "_model_module_version": "1.5.0",
            "_model_name": "DescriptionStyleModel",
            "_view_count": null,
            "_view_module": "@jupyter-widgets/base",
            "_view_module_version": "1.2.0",
            "_view_name": "StyleView",
            "description_width": ""
          }
        }
      }
    }
  },
  "nbformat": 4,
  "nbformat_minor": 0
}
